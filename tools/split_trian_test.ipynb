{
 "cells": [
  {
   "cell_type": "code",
   "execution_count": 28,
   "metadata": {},
   "outputs": [],
   "source": [
    "import os\n",
    "from os import listdir\n",
    "from os.path import isfile, join\n",
    "import random\n",
    "import shutil\n",
    "test_size = 2000\n",
    "path = '/Users/huisu/Coding/deeplearning/final_project/anime-artist/'\n",
    "photo_path = path +'faces/'\n",
    "sketch_path = path + 'generated_sketch_data/'\n",
    "\n",
    "files = [f for f in listdir(photo_path) if isfile(join(photo_path, f))]\n",
    "random.shuffle(files)\n",
    "test = files[:test_size]\n",
    "train = files[test_size:]\n",
    "if not os.path.exists(path+'test/A/'):\n",
    "    os.makedirs(path+'test/A/')\n",
    "if not os.path.exists(path+'test/B/'):\n",
    "    os.makedirs(path+'test/B/')\n",
    "if not os.path.exists(path+'train/A/'):\n",
    "    os.makedirs(path+'train/A/')\n",
    "if not os.path.exists(path+'train/B/'):\n",
    "    os.makedirs(path+'train/B/')\n",
    "\n",
    "for i in test:\n",
    "    shutil.move(photo_path + i,path + 'test/A/' + i)\n",
    "    shutil.move(sketch_path + i,path + 'test/B/'+ i)\n",
    "    os.rename(path + 'test/A/' + i, path + 'test/A/A' + i)\n",
    "    os.rename(path + 'test/B/' + i, path + 'test/B/B' + i)\n",
    "for i in train:\n",
    "    shutil.move(photo_path + i,path + 'train/A/' + i)\n",
    "    shutil.move(sketch_path + i,path + 'train/B/'+ i)\n",
    "    os.rename(path + 'train/A/' + i, path + 'train/A/A' + i)\n",
    "    os.rename(path + 'train/B/' + i, path + 'train/B/B' + i)"
   ]
  },
  {
   "cell_type": "code",
   "execution_count": null,
   "metadata": {},
   "outputs": [],
   "source": []
  }
 ],
 "metadata": {
  "kernelspec": {
   "display_name": "Python 3",
   "language": "python",
   "name": "python3"
  },
  "language_info": {
   "codemirror_mode": {
    "name": "ipython",
    "version": 3
   },
   "file_extension": ".py",
   "mimetype": "text/x-python",
   "name": "python",
   "nbconvert_exporter": "python",
   "pygments_lexer": "ipython3",
   "version": "3.7.4"
  }
 },
 "nbformat": 4,
 "nbformat_minor": 2
}
